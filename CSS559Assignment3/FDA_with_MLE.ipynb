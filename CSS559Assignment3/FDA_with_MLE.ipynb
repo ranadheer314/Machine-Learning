{
 "cells": [
  {
   "cell_type": "code",
   "execution_count": 27,
   "metadata": {},
   "outputs": [],
   "source": [
    "import numpy as np\n",
    "import pandas as pd\n",
    "import matplotlib.pyplot as plt\n",
    "import seaborn as sns\n",
    "from sklearn.model_selection import train_test_split\n",
    "#Importing the data\n",
    "pima=pd.read_csv(\"diabetes.csv\")"
   ]
  },
  {
   "cell_type": "code",
   "execution_count": 28,
   "metadata": {},
   "outputs": [],
   "source": [
    "def mean(X):\n",
    "    X_mean=np.mean(X,axis=0)\n",
    "    return X_mean"
   ]
  },
  {
   "cell_type": "code",
   "execution_count": 29,
   "metadata": {},
   "outputs": [],
   "source": [
    "#function which takes \"mean\" and \"covariance\" as the parameters and returns the likelihood of the Feature Vector\n",
    "def likelihood(x,mu,co):\n",
    "    #inverse of the covariance matrix\n",
    "    inv=np.linalg.inv(co)\n",
    "    p1=1/(np.sqrt(((2*np.pi)**3)*np.linalg.det(co)))\n",
    "    p2=np.exp(-0.5*np.dot(np.dot((x-mu).T,inv),(x-mu)))\n",
    "    p=p1*p2\n",
    "    return p"
   ]
  },
  {
   "cell_type": "code",
   "execution_count": 30,
   "metadata": {},
   "outputs": [],
   "source": [
    "#Testing on the test dataset\n",
    "X_testA=X_test.iloc[:,:8]\n",
    "def accuracy(X_test,Optimal_direction,MeanVectorA,meanVectorB,covA,covB,prior_prob_A,prior_prob_B):\n",
    "    a=X_test.iloc[:,:8]*Optimal_direction.T\n",
    "    count=0\n",
    "    for i in range(X_test.shape[0]):\n",
    "        k=a.iloc[i,:].to_numpy().reshape(a.shape[1],1)\n",
    "        #a=X_trainA.iloc[25,:3].to_numpy().reshape(X_trainA.shape[1]-1,1)\n",
    "        #a=Xtest_pca[i,:].reshape(Xtest_pca.shape[1],1)\n",
    "        postA=likelihood(k,MeanVectorA.T,covA)*prior_prob_A\n",
    "        postB=likelihood(k,MeanVectorB.T,covB)*prior_prob_B\n",
    "        if(postA<postB):\n",
    "            if(X_test.iloc[i,8]==1):\n",
    "                count+=1\n",
    "        else:\n",
    "            if(X_test.iloc[i,8]==0):\n",
    "                count+=1\n",
    "    accurate=count/X_test.shape[0]\n",
    "    return accurate"
   ]
  },
  {
   "cell_type": "code",
   "execution_count": 31,
   "metadata": {},
   "outputs": [
    {
     "name": "stdout",
     "output_type": "stream",
     "text": [
      "Average Accuracy is:0.74453125\n"
     ]
    }
   ],
   "source": [
    "A=[]\n",
    "for i in range(10):\n",
    "    X_train,X_test=train_test_split(pima, test_size=0.5)\n",
    "    class1=X_train[X_train[\"Outcome\"]==0]\n",
    "    class2=X_train[X_train[\"Outcome\"]==1]\n",
    "    MeanC1=mean(class1.iloc[:,:8])\n",
    "    MeanC2=mean(class2.iloc[:,:8])\n",
    "    tMean=mean(X_train.iloc[:,:8])\n",
    "    MeanC1=MeanC1.to_numpy().reshape(MeanC1.shape[0],1)\n",
    "    MeanC2=MeanC2.to_numpy().reshape(MeanC1.shape[0],1)\n",
    "    tMean=tMean.to_numpy().reshape(tMean.shape[0],1)\n",
    "    #S1=np.dot((class1.iloc[:,:8]-MeanC1.T).T,(class1.iloc[:,:8]-MeanC1.T))\n",
    "    #S2=np.dot((class2.iloc[:,:8]-MeanC2.T).T,(class2.iloc[:,:8]-MeanC2.T))\n",
    "    S1=(class1.shape[0]-1)*np.dot((class1.iloc[:,:8]-MeanC1.T).T,(class1.iloc[:,:8]-MeanC1.T))\n",
    "    S2=(class2.shape[0]-1)*np.dot((class2.iloc[:,:8]-MeanC2.T).T,(class2.iloc[:,:8]-MeanC2.T))\n",
    "    #Sw=S1+S2\n",
    "    Sw=S1+S2\n",
    "    #calculating the prior probability of the classes\n",
    "    prior_prob_A=X_trainA.shape[0]/(X_trainA.shape[0]+X_trainB.shape[0])\n",
    "    prior_prob_B=X_trainB.shape[0]/(X_trainA.shape[0]+X_trainB.shape[0])\n",
    "    inv_Sw=np.linalg.inv(Sw)\n",
    "    optimal_direction=np.dot(inv_Sw,MeanC1-MeanC2)\n",
    "    C1_LDA=class1.iloc[:,:8]*optimal_direction.T\n",
    "    C2_LDA=class2.iloc[:,:8]*optimal_direction.T\n",
    "    X_trainA=C1_LDA\n",
    "    X_trainB=C2_LDA\n",
    "    #calculating the covariance matrix for both classes(A and B)\n",
    "    covA=np.cov(X_trainA.iloc[:,:].T)\n",
    "    covB=np.cov(X_trainB.iloc[:,:].T)\n",
    "    MeanVectorA=np.mean(X_trainA,axis=0)\n",
    "    MeanVectorB=np.mean(X_trainB,axis=0)\n",
    "    MeanVectorA=MeanVectorA.to_numpy().reshape(1,MeanVectorA.shape[0])\n",
    "    MeanVectorB=MeanVectorB.to_numpy().reshape(1,MeanVectorB.shape[0])\n",
    "    kk=accuracy(X_test,optimal_direction,MeanVectorA,MeanVectorB,covA,covB,prior_prob_A,prior_prob_B)\n",
    "    A.append(kk)\n",
    "print(\"Average Accuracy is:\"+str(mean(A)))\n",
    "    "
   ]
  },
  {
   "cell_type": "code",
   "execution_count": 32,
   "metadata": {},
   "outputs": [
    {
     "data": {
      "text/plain": [
       "0.74453125"
      ]
     },
     "execution_count": 32,
     "metadata": {},
     "output_type": "execute_result"
    }
   ],
   "source": [
    "mean(A)"
   ]
  }
 ],
 "metadata": {
  "kernelspec": {
   "display_name": "Python 3",
   "language": "python",
   "name": "python3"
  },
  "language_info": {
   "codemirror_mode": {
    "name": "ipython",
    "version": 3
   },
   "file_extension": ".py",
   "mimetype": "text/x-python",
   "name": "python",
   "nbconvert_exporter": "python",
   "pygments_lexer": "ipython3",
   "version": "3.8.1"
  }
 },
 "nbformat": 4,
 "nbformat_minor": 4
}
