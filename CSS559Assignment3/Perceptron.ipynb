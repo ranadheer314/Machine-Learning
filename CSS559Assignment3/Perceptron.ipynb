{
 "cells": [
  {
   "cell_type": "code",
   "execution_count": 59,
   "metadata": {},
   "outputs": [],
   "source": [
    "import numpy as np\n",
    "import pandas as pd\n",
    "import matplotlib.pyplot as plt\n",
    "import seaborn as sns"
   ]
  },
  {
   "attachments": {
    "image.png": {
     "image/png": "[encoded data removed]"
    }
   },
   "cell_type": "markdown",
   "metadata": {},
   "source": [
    "![image.png](attachment:image.png)"
   ]
  },
  {
   "cell_type": "code",
   "execution_count": 116,
   "metadata": {},
   "outputs": [],
   "source": [
    "#store all the arrays in the numpy array\n",
    "X_init=np.array([[2,1,1,-1,0,2],[1,0,0,1,2,0],[2,-1,-1,1,1,0],[1,4,0,1,2,1],[1,-1,1,1,1,0],[1,-1,-1,-1,1,0],[2,-1,1,1,2,1]])"
   ]
  },
  {
   "cell_type": "code",
   "execution_count": 117,
   "metadata": {},
   "outputs": [],
   "source": [
    "#creating a new column with all ones\n",
    "new_column=np.ones((X_init.shape[0],1))"
   ]
  },
  {
   "cell_type": "code",
   "execution_count": 118,
   "metadata": {},
   "outputs": [],
   "source": [
    "X_in=X_init[:,0:1]"
   ]
  },
  {
   "cell_type": "code",
   "execution_count": 119,
   "metadata": {},
   "outputs": [],
   "source": [
    "# Last Row of the Numpy array is the extra column with ones \n",
    "X_shift=np.append(X_in,new_column,axis=1)"
   ]
  },
  {
   "cell_type": "code",
   "execution_count": 120,
   "metadata": {},
   "outputs": [],
   "source": [
    "for i in range(1,X_init.shape[1]):\n",
    "    X_col=X_init[:,i].reshape(X_init.shape[0],1)\n",
    "    X_shift=np.append(X_shift,X_col,axis=1)"
   ]
  },
  {
   "cell_type": "code",
   "execution_count": 121,
   "metadata": {},
   "outputs": [
    {
     "data": {
      "text/plain": [
       "array([[ 2,  1,  1, -1,  0,  2],\n",
       "       [ 1,  0,  0,  1,  2,  0],\n",
       "       [ 2, -1, -1,  1,  1,  0],\n",
       "       [ 1,  4,  0,  1,  2,  1],\n",
       "       [ 1, -1,  1,  1,  1,  0],\n",
       "       [ 1, -1, -1, -1,  1,  0],\n",
       "       [ 2, -1,  1,  1,  2,  1]])"
      ]
     },
     "execution_count": 121,
     "metadata": {},
     "output_type": "execute_result"
    }
   ],
   "source": [
    "X_init"
   ]
  },
  {
   "cell_type": "code",
   "execution_count": 122,
   "metadata": {},
   "outputs": [
    {
     "data": {
      "text/plain": [
       "array([[ 2.,  1.,  1.,  1., -1.,  0.,  2.],\n",
       "       [ 1.,  1.,  0.,  0.,  1.,  2.,  0.],\n",
       "       [ 2.,  1., -1., -1.,  1.,  1.,  0.],\n",
       "       [ 1.,  1.,  4.,  0.,  1.,  2.,  1.],\n",
       "       [ 1.,  1., -1.,  1.,  1.,  1.,  0.],\n",
       "       [ 1.,  1., -1., -1., -1.,  1.,  0.],\n",
       "       [ 2.,  1., -1.,  1.,  1.,  2.,  1.]])"
      ]
     },
     "execution_count": 122,
     "metadata": {},
     "output_type": "execute_result"
    }
   ],
   "source": [
    "#added a one colummn at the initial position\n",
    "X_shift"
   ]
  },
  {
   "cell_type": "code",
   "execution_count": 123,
   "metadata": {},
   "outputs": [],
   "source": [
    "#Replace all examples from class 2 by their negative values \n",
    "for i in range(X_shift.shape[0]):\n",
    "    if(X_shift[i,0]==2):\n",
    "        for j in range(1,X_shift.shape[1]):\n",
    "            X_shift[i,j]*=-1\n",
    "    "
   ]
  },
  {
   "cell_type": "code",
   "execution_count": 124,
   "metadata": {},
   "outputs": [
    {
     "data": {
      "text/plain": [
       "array([[ 2., -1., -1., -1.,  1., -0., -2.],\n",
       "       [ 1.,  1.,  0.,  0.,  1.,  2.,  0.],\n",
       "       [ 2., -1.,  1.,  1., -1., -1., -0.],\n",
       "       [ 1.,  1.,  4.,  0.,  1.,  2.,  1.],\n",
       "       [ 1.,  1., -1.,  1.,  1.,  1.,  0.],\n",
       "       [ 1.,  1., -1., -1., -1.,  1.,  0.],\n",
       "       [ 2., -1.,  1., -1., -1., -2., -1.]])"
      ]
     },
     "execution_count": 124,
     "metadata": {},
     "output_type": "execute_result"
    }
   ],
   "source": [
    "X_shift"
   ]
  },
  {
   "cell_type": "code",
   "execution_count": 125,
   "metadata": {},
   "outputs": [],
   "source": [
    "X=X_shift[:,1:]"
   ]
  },
  {
   "cell_type": "code",
   "execution_count": 126,
   "metadata": {},
   "outputs": [
    {
     "name": "stdout",
     "output_type": "stream",
     "text": [
      "[[-1. -1. -1.  1. -0. -2.]\n",
      " [ 1.  0.  0.  1.  2.  0.]\n",
      " [-1.  1.  1. -1. -1. -0.]\n",
      " [ 1.  4.  0.  1.  2.  1.]\n",
      " [ 1. -1.  1.  1.  1.  0.]\n",
      " [ 1. -1. -1. -1.  1.  0.]\n",
      " [-1.  1. -1. -1. -2. -1.]]\n"
     ]
    }
   ],
   "source": [
    "#final Matrix after all necessary operations\n",
    "#added one one's column at the front \n",
    "# Multiplied by -1 for rows which belongs to class 2\n",
    "print(X)"
   ]
  },
  {
   "cell_type": "code",
   "execution_count": 127,
   "metadata": {},
   "outputs": [],
   "source": [
    "initial_weight=np.array([[3,1,1,-1,2,-7]])"
   ]
  },
  {
   "cell_type": "code",
   "execution_count": 128,
   "metadata": {},
   "outputs": [
    {
     "data": {
      "text/plain": [
       "array([[ 3,  1,  1, -1,  2, -7]])"
      ]
     },
     "execution_count": 128,
     "metadata": {},
     "output_type": "execute_result"
    }
   ],
   "source": [
    "initial_weight"
   ]
  },
  {
   "cell_type": "code",
   "execution_count": 129,
   "metadata": {},
   "outputs": [],
   "source": [
    "Learning_rate=1"
   ]
  },
  {
   "cell_type": "code",
   "execution_count": 130,
   "metadata": {},
   "outputs": [],
   "source": [
    "iterations=1000"
   ]
  },
  {
   "cell_type": "code",
   "execution_count": 131,
   "metadata": {},
   "outputs": [
    {
     "data": {
      "text/plain": [
       "array([[ 8.],\n",
       "       [ 6.],\n",
       "       [-2.],\n",
       "       [ 3.],\n",
       "       [ 4.],\n",
       "       [ 4.],\n",
       "       [ 1.]])"
      ]
     },
     "execution_count": 131,
     "metadata": {},
     "output_type": "execute_result"
    }
   ],
   "source": [
    "np.dot(X,initial_weight.T)"
   ]
  },
  {
   "cell_type": "code",
   "execution_count": 146,
   "metadata": {},
   "outputs": [],
   "source": [
    "weights=initial_weight\n",
    "br=1\n",
    "while(br):\n",
    "    #if all the samples are correctly classified break the loop\n",
    "    if(sum(np.dot(X,weights.T)>0)):\n",
    "        br=0\n",
    "    for j in range(X.shape[0]):\n",
    "        if(np.dot(weights,X[j,:].T)<0):\n",
    "             #update the weights \n",
    "            weights=weights+(Learning_rate*X[j,:])\n",
    "           \n"
   ]
  },
  {
   "cell_type": "code",
   "execution_count": 147,
   "metadata": {},
   "outputs": [
    {
     "data": {
      "text/plain": [
       "array([[6.],\n",
       "       [2.],\n",
       "       [3.],\n",
       "       [3.],\n",
       "       [1.],\n",
       "       [1.],\n",
       "       [5.]])"
      ]
     },
     "execution_count": 147,
     "metadata": {},
     "output_type": "execute_result"
    }
   ],
   "source": [
    "np.dot(X,weights.T)"
   ]
  },
  {
   "cell_type": "code",
   "execution_count": null,
   "metadata": {},
   "outputs": [],
   "source": []
  }
 ],
 "metadata": {
  "kernelspec": {
   "display_name": "Python 3",
   "language": "python",
   "name": "python3"
  },
  "language_info": {
   "codemirror_mode": {
    "name": "ipython",
    "version": 3
   },
   "file_extension": ".py",
   "mimetype": "text/x-python",
   "name": "python",
   "nbconvert_exporter": "python",
   "pygments_lexer": "ipython3",
   "version": "3.8.1"
  }
 },
 "nbformat": 4,
 "nbformat_minor": 4
}
