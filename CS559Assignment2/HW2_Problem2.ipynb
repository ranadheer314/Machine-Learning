{
 "cells": [
  {
   "cell_type": "code",
   "execution_count": 1119,
   "metadata": {},
   "outputs": [],
   "source": [
    "import numpy as np\n",
    "import pandas as pd\n",
    "from sklearn.model_selection import train_test_split\n",
    "import math"
   ]
  },
  {
   "cell_type": "code",
   "execution_count": 1120,
   "metadata": {},
   "outputs": [],
   "source": [
    "pima=pd.read_csv(\"diabetes.csv\")"
   ]
  },
  {
   "cell_type": "code",
   "execution_count": 1121,
   "metadata": {},
   "outputs": [
    {
     "data": {
      "text/html": [
       "<div>\n",
       "<style scoped>\n",
       "    .dataframe tbody tr th:only-of-type {\n",
       "        vertical-align: middle;\n",
       "    }\n",
       "\n",
       "    .dataframe tbody tr th {\n",
       "        vertical-align: top;\n",
       "    }\n",
       "\n",
       "    .dataframe thead th {\n",
       "        text-align: right;\n",
       "    }\n",
       "</style>\n",
       "<table border=\"1\" class=\"dataframe\">\n",
       "  <thead>\n",
       "    <tr style=\"text-align: right;\">\n",
       "      <th></th>\n",
       "      <th>Pregnancies</th>\n",
       "      <th>Glucose</th>\n",
       "      <th>BloodPressure</th>\n",
       "      <th>SkinThickness</th>\n",
       "      <th>Insulin</th>\n",
       "      <th>BMI</th>\n",
       "      <th>DiabetesPedigreeFunction</th>\n",
       "      <th>Age</th>\n",
       "      <th>Outcome</th>\n",
       "    </tr>\n",
       "  </thead>\n",
       "  <tbody>\n",
       "    <tr>\n",
       "      <th>0</th>\n",
       "      <td>6</td>\n",
       "      <td>148</td>\n",
       "      <td>72</td>\n",
       "      <td>35</td>\n",
       "      <td>0</td>\n",
       "      <td>33.6</td>\n",
       "      <td>0.627</td>\n",
       "      <td>50</td>\n",
       "      <td>1</td>\n",
       "    </tr>\n",
       "    <tr>\n",
       "      <th>1</th>\n",
       "      <td>1</td>\n",
       "      <td>85</td>\n",
       "      <td>66</td>\n",
       "      <td>29</td>\n",
       "      <td>0</td>\n",
       "      <td>26.6</td>\n",
       "      <td>0.351</td>\n",
       "      <td>31</td>\n",
       "      <td>0</td>\n",
       "    </tr>\n",
       "    <tr>\n",
       "      <th>2</th>\n",
       "      <td>8</td>\n",
       "      <td>183</td>\n",
       "      <td>64</td>\n",
       "      <td>0</td>\n",
       "      <td>0</td>\n",
       "      <td>23.3</td>\n",
       "      <td>0.672</td>\n",
       "      <td>32</td>\n",
       "      <td>1</td>\n",
       "    </tr>\n",
       "    <tr>\n",
       "      <th>3</th>\n",
       "      <td>1</td>\n",
       "      <td>89</td>\n",
       "      <td>66</td>\n",
       "      <td>23</td>\n",
       "      <td>94</td>\n",
       "      <td>28.1</td>\n",
       "      <td>0.167</td>\n",
       "      <td>21</td>\n",
       "      <td>0</td>\n",
       "    </tr>\n",
       "    <tr>\n",
       "      <th>4</th>\n",
       "      <td>0</td>\n",
       "      <td>137</td>\n",
       "      <td>40</td>\n",
       "      <td>35</td>\n",
       "      <td>168</td>\n",
       "      <td>43.1</td>\n",
       "      <td>2.288</td>\n",
       "      <td>33</td>\n",
       "      <td>1</td>\n",
       "    </tr>\n",
       "    <tr>\n",
       "      <th>...</th>\n",
       "      <td>...</td>\n",
       "      <td>...</td>\n",
       "      <td>...</td>\n",
       "      <td>...</td>\n",
       "      <td>...</td>\n",
       "      <td>...</td>\n",
       "      <td>...</td>\n",
       "      <td>...</td>\n",
       "      <td>...</td>\n",
       "    </tr>\n",
       "    <tr>\n",
       "      <th>763</th>\n",
       "      <td>10</td>\n",
       "      <td>101</td>\n",
       "      <td>76</td>\n",
       "      <td>48</td>\n",
       "      <td>180</td>\n",
       "      <td>32.9</td>\n",
       "      <td>0.171</td>\n",
       "      <td>63</td>\n",
       "      <td>0</td>\n",
       "    </tr>\n",
       "    <tr>\n",
       "      <th>764</th>\n",
       "      <td>2</td>\n",
       "      <td>122</td>\n",
       "      <td>70</td>\n",
       "      <td>27</td>\n",
       "      <td>0</td>\n",
       "      <td>36.8</td>\n",
       "      <td>0.340</td>\n",
       "      <td>27</td>\n",
       "      <td>0</td>\n",
       "    </tr>\n",
       "    <tr>\n",
       "      <th>765</th>\n",
       "      <td>5</td>\n",
       "      <td>121</td>\n",
       "      <td>72</td>\n",
       "      <td>23</td>\n",
       "      <td>112</td>\n",
       "      <td>26.2</td>\n",
       "      <td>0.245</td>\n",
       "      <td>30</td>\n",
       "      <td>0</td>\n",
       "    </tr>\n",
       "    <tr>\n",
       "      <th>766</th>\n",
       "      <td>1</td>\n",
       "      <td>126</td>\n",
       "      <td>60</td>\n",
       "      <td>0</td>\n",
       "      <td>0</td>\n",
       "      <td>30.1</td>\n",
       "      <td>0.349</td>\n",
       "      <td>47</td>\n",
       "      <td>1</td>\n",
       "    </tr>\n",
       "    <tr>\n",
       "      <th>767</th>\n",
       "      <td>1</td>\n",
       "      <td>93</td>\n",
       "      <td>70</td>\n",
       "      <td>31</td>\n",
       "      <td>0</td>\n",
       "      <td>30.4</td>\n",
       "      <td>0.315</td>\n",
       "      <td>23</td>\n",
       "      <td>0</td>\n",
       "    </tr>\n",
       "  </tbody>\n",
       "</table>\n",
       "<p>768 rows × 9 columns</p>\n",
       "</div>"
      ],
      "text/plain": [
       "     Pregnancies  Glucose  BloodPressure  SkinThickness  Insulin   BMI  \\\n",
       "0              6      148             72             35        0  33.6   \n",
       "1              1       85             66             29        0  26.6   \n",
       "2              8      183             64              0        0  23.3   \n",
       "3              1       89             66             23       94  28.1   \n",
       "4              0      137             40             35      168  43.1   \n",
       "..           ...      ...            ...            ...      ...   ...   \n",
       "763           10      101             76             48      180  32.9   \n",
       "764            2      122             70             27        0  36.8   \n",
       "765            5      121             72             23      112  26.2   \n",
       "766            1      126             60              0        0  30.1   \n",
       "767            1       93             70             31        0  30.4   \n",
       "\n",
       "     DiabetesPedigreeFunction  Age  Outcome  \n",
       "0                       0.627   50        1  \n",
       "1                       0.351   31        0  \n",
       "2                       0.672   32        1  \n",
       "3                       0.167   21        0  \n",
       "4                       2.288   33        1  \n",
       "..                        ...  ...      ...  \n",
       "763                     0.171   63        0  \n",
       "764                     0.340   27        0  \n",
       "765                     0.245   30        0  \n",
       "766                     0.349   47        1  \n",
       "767                     0.315   23        0  \n",
       "\n",
       "[768 rows x 9 columns]"
      ]
     },
     "execution_count": 1121,
     "metadata": {},
     "output_type": "execute_result"
    }
   ],
   "source": [
    "pima"
   ]
  },
  {
   "cell_type": "code",
   "execution_count": 1122,
   "metadata": {},
   "outputs": [],
   "source": [
    "#Taking required features for training into a list\n",
    "features=[\"Glucose\",\"BloodPressure\",\"SkinThickness\",\"Outcome\"]\n",
    "#Creating a DataFrame with the list features\n",
    "X_temp=pima[features]\n",
    "#Spliting the Datasets into 2 parts i.e Training Set and Test Set\n",
    "X_train,X_test = train_test_split(X_temp, test_size=0.5)\n"
   ]
  },
  {
   "cell_type": "code",
   "execution_count": 1123,
   "metadata": {},
   "outputs": [
    {
     "data": {
      "text/html": [
       "<div>\n",
       "<style scoped>\n",
       "    .dataframe tbody tr th:only-of-type {\n",
       "        vertical-align: middle;\n",
       "    }\n",
       "\n",
       "    .dataframe tbody tr th {\n",
       "        vertical-align: top;\n",
       "    }\n",
       "\n",
       "    .dataframe thead th {\n",
       "        text-align: right;\n",
       "    }\n",
       "</style>\n",
       "<table border=\"1\" class=\"dataframe\">\n",
       "  <thead>\n",
       "    <tr style=\"text-align: right;\">\n",
       "      <th></th>\n",
       "      <th>Glucose</th>\n",
       "      <th>BloodPressure</th>\n",
       "      <th>SkinThickness</th>\n",
       "      <th>Outcome</th>\n",
       "    </tr>\n",
       "  </thead>\n",
       "  <tbody>\n",
       "    <tr>\n",
       "      <th>744</th>\n",
       "      <td>153</td>\n",
       "      <td>88</td>\n",
       "      <td>37</td>\n",
       "      <td>0</td>\n",
       "    </tr>\n",
       "    <tr>\n",
       "      <th>654</th>\n",
       "      <td>106</td>\n",
       "      <td>70</td>\n",
       "      <td>28</td>\n",
       "      <td>0</td>\n",
       "    </tr>\n",
       "    <tr>\n",
       "      <th>112</th>\n",
       "      <td>89</td>\n",
       "      <td>76</td>\n",
       "      <td>34</td>\n",
       "      <td>0</td>\n",
       "    </tr>\n",
       "    <tr>\n",
       "      <th>98</th>\n",
       "      <td>93</td>\n",
       "      <td>50</td>\n",
       "      <td>30</td>\n",
       "      <td>0</td>\n",
       "    </tr>\n",
       "    <tr>\n",
       "      <th>721</th>\n",
       "      <td>114</td>\n",
       "      <td>66</td>\n",
       "      <td>36</td>\n",
       "      <td>0</td>\n",
       "    </tr>\n",
       "    <tr>\n",
       "      <th>...</th>\n",
       "      <td>...</td>\n",
       "      <td>...</td>\n",
       "      <td>...</td>\n",
       "      <td>...</td>\n",
       "    </tr>\n",
       "    <tr>\n",
       "      <th>710</th>\n",
       "      <td>158</td>\n",
       "      <td>64</td>\n",
       "      <td>13</td>\n",
       "      <td>0</td>\n",
       "    </tr>\n",
       "    <tr>\n",
       "      <th>526</th>\n",
       "      <td>97</td>\n",
       "      <td>64</td>\n",
       "      <td>19</td>\n",
       "      <td>0</td>\n",
       "    </tr>\n",
       "    <tr>\n",
       "      <th>160</th>\n",
       "      <td>151</td>\n",
       "      <td>90</td>\n",
       "      <td>38</td>\n",
       "      <td>0</td>\n",
       "    </tr>\n",
       "    <tr>\n",
       "      <th>134</th>\n",
       "      <td>96</td>\n",
       "      <td>68</td>\n",
       "      <td>13</td>\n",
       "      <td>0</td>\n",
       "    </tr>\n",
       "    <tr>\n",
       "      <th>65</th>\n",
       "      <td>99</td>\n",
       "      <td>74</td>\n",
       "      <td>27</td>\n",
       "      <td>0</td>\n",
       "    </tr>\n",
       "  </tbody>\n",
       "</table>\n",
       "<p>384 rows × 4 columns</p>\n",
       "</div>"
      ],
      "text/plain": [
       "     Glucose  BloodPressure  SkinThickness  Outcome\n",
       "744      153             88             37        0\n",
       "654      106             70             28        0\n",
       "112       89             76             34        0\n",
       "98        93             50             30        0\n",
       "721      114             66             36        0\n",
       "..       ...            ...            ...      ...\n",
       "710      158             64             13        0\n",
       "526       97             64             19        0\n",
       "160      151             90             38        0\n",
       "134       96             68             13        0\n",
       "65        99             74             27        0\n",
       "\n",
       "[384 rows x 4 columns]"
      ]
     },
     "execution_count": 1123,
     "metadata": {},
     "output_type": "execute_result"
    }
   ],
   "source": [
    "X_train"
   ]
  },
  {
   "cell_type": "code",
   "execution_count": 1124,
   "metadata": {},
   "outputs": [],
   "source": [
    "#Method to calculating Euclidean Distance for two Vectors\n",
    "def dist(x,y):\n",
    "    temp=(x-y)**2\n",
    "    s=np.sum(temp,axis=0)\n",
    "    d=np.sqrt(s) \n",
    "    return d"
   ]
  },
  {
   "cell_type": "code",
   "execution_count": 1125,
   "metadata": {},
   "outputs": [],
   "source": [
    "#Method to Perform KNN \n",
    "def knn(x,k,x_old):\n",
    "    #Making a copy of the Dataset to temparily store the distance values as a separate column\n",
    "    x1=x_old.copy()\n",
    "    #Temp List stores the distance of the numpy array \"x\" to all the sample from the given Dataset\"x_old\"\n",
    "    temp=[]\n",
    "    for i in range(x_old.shape[0]):\n",
    "        d=dist(x,x_old.iloc[i,:].to_numpy().reshape(X_train.shape[1],1))\n",
    "        temp.append(d)\n",
    "    #Adding new column as the distance to the \"x1\" DataFrame\n",
    "    x1[\"distance\"]=temp\n",
    "    #Sorts the DataFrame based upon the distance values \n",
    "    x2=x1.sort_values(by=['distance'])\n",
    "    #sorted_k_indexes stores the K Nearest Neighbours to the test sample\n",
    "    sorted_k_indexes=[]\n",
    "    for j in range(k):\n",
    "        sorted_k_indexes.append(x2.iloc[j,4])\n",
    "    classA=0\n",
    "    classB=0\n",
    "    #calculating how many classA and ClassB outcomes were there in these K values\n",
    "    for p in range(len(sorted_k_indexes)):\n",
    "        if(sorted_k_indexes[p]==1):\n",
    "            classB+=1\n",
    "        else:\n",
    "            classA+=1\n",
    "    #if ClassB values were more than assign the test sample to ClassB (i.e outcome 1) else ClassA\n",
    "    if(classA>classB):\n",
    "        return 0\n",
    "    else:\n",
    "        return 1"
   ]
  },
  {
   "cell_type": "code",
   "execution_count": 1126,
   "metadata": {},
   "outputs": [
    {
     "name": "stdout",
     "output_type": "stream",
     "text": [
      "Total no of correctly predicted values:242\n",
      "Accuracy: 0.6302083333333334\n"
     ]
    }
   ],
   "source": [
    "#Accuracy for K=1\n",
    "predicted_outcome=[]\n",
    "for k in range(X_test.shape[0]):\n",
    "    #Changing the test sample from Pandas Series to numpy Array and reshaping it\n",
    "    a=X_test.iloc[k,:].to_numpy().reshape(X_train.shape[1],1)\n",
    "    #Calling the knn method and storing the return in a label\n",
    "    label=knn(a,1,X_train)\n",
    "    if(label==1):\n",
    "        predicted_outcome.append(1)\n",
    "    else:\n",
    "        predicted_outcome.append(0)\n",
    "XTest=X_test.copy()\n",
    "#adding a column to the test set DataFrame with Predicted values\n",
    "XTest[\"predictedOutcome\"]=predicted_outcome\n",
    "correct=0\n",
    "wrong=0\n",
    "for k in range(XTest.shape[0]):\n",
    "    #If predicted values and actual outcome is same then increment the correct variable\n",
    "    if(XTest.iloc[k,3]==XTest.iloc[k,4]):\n",
    "        correct+=1\n",
    "    else:\n",
    "        wrong+=1\n",
    "print(\"Total no of correctly predicted values:\" +str(correct))\n",
    "Accuracy_k1=correct/X_test.shape[0]\n",
    "print(\"Accuracy: \"+str(Accuracy_k1))\n"
   ]
  },
  {
   "cell_type": "code",
   "execution_count": 1127,
   "metadata": {},
   "outputs": [
    {
     "name": "stdout",
     "output_type": "stream",
     "text": [
      "Total no of correctly predicted values:247\n",
      "Accuracy: 0.6432291666666666\n"
     ]
    }
   ],
   "source": [
    "#Accuracy for K=5\n",
    "predicted_outcome=[]\n",
    "for k in range(X_test.shape[0]):\n",
    "    a=X_test.iloc[k,:].to_numpy().reshape(X_train.shape[1],1)\n",
    "    label=knn(a,5,X_train)\n",
    "    if(label==1):\n",
    "        predicted_outcome.append(1)\n",
    "    else:\n",
    "        predicted_outcome.append(0)\n",
    "XTest=X_test.copy()\n",
    "XTest[\"predictedOutcome\"]=predicted_outcome\n",
    "correct=0\n",
    "wrong=0\n",
    "for k in range(XTest.shape[0]):\n",
    "    if(XTest.iloc[k,3]==XTest.iloc[k,4]):\n",
    "        correct+=1\n",
    "    else:\n",
    "        wrong+=1\n",
    "print(\"Total no of correctly predicted values:\" +str(correct))\n",
    "Accuracy_k5=correct/X_test.shape[0]\n",
    "print(\"Accuracy: \"+str(Accuracy_k5))"
   ]
  },
  {
   "cell_type": "code",
   "execution_count": 1128,
   "metadata": {},
   "outputs": [
    {
     "name": "stdout",
     "output_type": "stream",
     "text": [
      "Total no of correctly predicted values:247\n",
      "Accuracy: 0.6432291666666666\n"
     ]
    }
   ],
   "source": [
    "#Accuracy for K=11\n",
    "predicted_outcome=[]\n",
    "for k in range(X_test.shape[0]):\n",
    "    a=X_test.iloc[k,:].to_numpy().reshape(X_train.shape[1],1)\n",
    "    label=knn(a,11,X_train)\n",
    "    if(label==1):\n",
    "        predicted_outcome.append(1)\n",
    "    else:\n",
    "        predicted_outcome.append(0)\n",
    "XTest=X_test.copy()\n",
    "XTest[\"predictedOutcome\"]=predicted_outcome\n",
    "correct=0\n",
    "wrong=0\n",
    "for k in range(XTest.shape[0]):\n",
    "    if(XTest.iloc[k,3]==XTest.iloc[k,4]):\n",
    "        correct+=1\n",
    "    else:\n",
    "        wrong+=1\n",
    "print(\"Total no of correctly predicted values:\" +str(correct))\n",
    "Accuracy_k11=correct/X_test.shape[0]\n",
    "print(\"Accuracy: \"+str(Accuracy_k11))"
   ]
  },
  {
   "cell_type": "code",
   "execution_count": 1129,
   "metadata": {},
   "outputs": [],
   "source": [
    "#storing the accuracy of 10 iterations in a list\n",
    "#ListAccuracy_k1=[]\n",
    "#ListAccuracy_k5=[]\n",
    "#ListAccuracy_k11=[]"
   ]
  },
  {
   "cell_type": "code",
   "execution_count": 1130,
   "metadata": {},
   "outputs": [],
   "source": [
    "ListAccuracy_k1.append(Accuracy_k1)\n",
    "ListAccuracy_k5.append(Accuracy_k5)\n",
    "ListAccuracy_k11.append(Accuracy_k11)"
   ]
  },
  {
   "cell_type": "code",
   "execution_count": 1131,
   "metadata": {},
   "outputs": [
    {
     "data": {
      "text/plain": [
       "[0.640625,\n",
       " 0.6536458333333334,\n",
       " 0.6432291666666666,\n",
       " 0.6796875,\n",
       " 0.6197916666666666,\n",
       " 0.6354166666666666,\n",
       " 0.6458333333333334,\n",
       " 0.6380208333333334,\n",
       " 0.6666666666666666,\n",
       " 0.6041666666666666,\n",
       " 0.6302083333333334]"
      ]
     },
     "execution_count": 1131,
     "metadata": {},
     "output_type": "execute_result"
    }
   ],
   "source": [
    "ListAccuracy_k1"
   ]
  },
  {
   "cell_type": "code",
   "execution_count": 1132,
   "metadata": {},
   "outputs": [
    {
     "data": {
      "text/plain": [
       "[0.6510416666666666,\n",
       " 0.6614583333333334,\n",
       " 0.6588541666666666,\n",
       " 0.6927083333333334,\n",
       " 0.6302083333333334,\n",
       " 0.6588541666666666,\n",
       " 0.6614583333333334,\n",
       " 0.6510416666666666,\n",
       " 0.6822916666666666,\n",
       " 0.6197916666666666,\n",
       " 0.6432291666666666]"
      ]
     },
     "execution_count": 1132,
     "metadata": {},
     "output_type": "execute_result"
    }
   ],
   "source": [
    "ListAccuracy_k5"
   ]
  },
  {
   "cell_type": "code",
   "execution_count": 1133,
   "metadata": {},
   "outputs": [
    {
     "data": {
      "text/plain": [
       "[0.6510416666666666,\n",
       " 0.6614583333333334,\n",
       " 0.6588541666666666,\n",
       " 0.6927083333333334,\n",
       " 0.6302083333333334,\n",
       " 0.6588541666666666,\n",
       " 0.6588541666666666,\n",
       " 0.6510416666666666,\n",
       " 0.6822916666666666,\n",
       " 0.6171875,\n",
       " 0.6432291666666666]"
      ]
     },
     "execution_count": 1133,
     "metadata": {},
     "output_type": "execute_result"
    }
   ],
   "source": [
    "ListAccuracy_k11"
   ]
  },
  {
   "cell_type": "code",
   "execution_count": 1134,
   "metadata": {},
   "outputs": [
    {
     "name": "stdout",
     "output_type": "stream",
     "text": [
      "Mean for K==1: 0.6415719696969696\n",
      "Mean for K==5: 0.6555397727272728\n",
      "Mean for K==11: 0.655066287878788\n"
     ]
    }
   ],
   "source": [
    "#mean accuracy\n",
    "Mean_k1=sum(ListAccuracy_k1)/len(ListAccuracy_k1)\n",
    "Mean_k5=sum(ListAccuracy_k5)/len(ListAccuracy_k5)\n",
    "Mean_k11=sum(ListAccuracy_k11)/len(ListAccuracy_k11)\n",
    "\n",
    "print(\"Mean for K==1: \"+str(Mean_k1))\n",
    "print(\"Mean for K==5: \"+str(Mean_k5))\n",
    "print(\"Mean for K==11: \"+str(Mean_k11))"
   ]
  },
  {
   "cell_type": "code",
   "execution_count": 1135,
   "metadata": {},
   "outputs": [
    {
     "name": "stdout",
     "output_type": "stream",
     "text": [
      "0.020744364955307508\n"
     ]
    }
   ],
   "source": [
    "std_dev=0\n",
    "for p in range(len(ListAccuracy_k1)):\n",
    "    std_dev+=(ListAccuracy_k1[p]-Mean_k1)**2\n",
    "std_d=std_dev/(len(ListAccuracy_k1)-1)\n",
    "std_deviation_k1=math.sqrt(std_d)\n",
    "#Standard Deviation of the accuracy\n",
    "print(std_deviation_k1)"
   ]
  },
  {
   "cell_type": "code",
   "execution_count": 1136,
   "metadata": {},
   "outputs": [
    {
     "name": "stdout",
     "output_type": "stream",
     "text": [
      "0.020738420159382223\n"
     ]
    }
   ],
   "source": [
    "std_dev=0\n",
    "for p in range(len(ListAccuracy_k5)):\n",
    "    std_dev+=(ListAccuracy_k5[p]-Mean_k5)**2\n",
    "std_d=std_dev/(len(ListAccuracy_k5)-1)\n",
    "std_deviation_k5=math.sqrt(std_d)\n",
    "#Standard Deviation of the accuracy\n",
    "print(std_deviation_k5)"
   ]
  },
  {
   "cell_type": "code",
   "execution_count": 1137,
   "metadata": {},
   "outputs": [
    {
     "name": "stdout",
     "output_type": "stream",
     "text": [
      "0.021135941483918244\n"
     ]
    }
   ],
   "source": [
    "std_dev=0\n",
    "for p in range(len(ListAccuracy_k11)):\n",
    "    std_dev+=(ListAccuracy_k11[p]-Mean_k11)**2\n",
    "std_d=std_dev/(len(ListAccuracy_k11)-1)\n",
    "std_deviation_k11=math.sqrt(std_d)\n",
    "#Standard Deviation of the accuracy\n",
    "print(std_deviation_k11)"
   ]
  }
 ],
 "metadata": {
  "kernelspec": {
   "display_name": "Python 3",
   "language": "python",
   "name": "python3"
  },
  "language_info": {
   "codemirror_mode": {
    "name": "ipython",
    "version": 3
   },
   "file_extension": ".py",
   "mimetype": "text/x-python",
   "name": "python",
   "nbconvert_exporter": "python",
   "pygments_lexer": "ipython3",
   "version": "3.8.1"
  }
 },
 "nbformat": 4,
 "nbformat_minor": 4
}
