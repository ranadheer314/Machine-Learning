{
 "cells": [
  {
   "cell_type": "code",
   "execution_count": 464,
   "metadata": {},
   "outputs": [],
   "source": [
    "import numpy as np\n",
    "import pandas as pd\n",
    "from sklearn.model_selection import train_test_split"
   ]
  },
  {
   "cell_type": "code",
   "execution_count": 465,
   "metadata": {},
   "outputs": [],
   "source": [
    "#Importing the data\n",
    "pima=pd.read_csv(\"diabetes.csv\")"
   ]
  },
  {
   "cell_type": "code",
   "execution_count": 466,
   "metadata": {},
   "outputs": [
    {
     "data": {
      "text/html": [
       "<div>\n",
       "<style scoped>\n",
       "    .dataframe tbody tr th:only-of-type {\n",
       "        vertical-align: middle;\n",
       "    }\n",
       "\n",
       "    .dataframe tbody tr th {\n",
       "        vertical-align: top;\n",
       "    }\n",
       "\n",
       "    .dataframe thead th {\n",
       "        text-align: right;\n",
       "    }\n",
       "</style>\n",
       "<table border=\"1\" class=\"dataframe\">\n",
       "  <thead>\n",
       "    <tr style=\"text-align: right;\">\n",
       "      <th></th>\n",
       "      <th>Pregnancies</th>\n",
       "      <th>Glucose</th>\n",
       "      <th>BloodPressure</th>\n",
       "      <th>SkinThickness</th>\n",
       "      <th>Insulin</th>\n",
       "      <th>BMI</th>\n",
       "      <th>DiabetesPedigreeFunction</th>\n",
       "      <th>Age</th>\n",
       "      <th>Outcome</th>\n",
       "    </tr>\n",
       "  </thead>\n",
       "  <tbody>\n",
       "    <tr>\n",
       "      <th>0</th>\n",
       "      <td>6</td>\n",
       "      <td>148</td>\n",
       "      <td>72</td>\n",
       "      <td>35</td>\n",
       "      <td>0</td>\n",
       "      <td>33.6</td>\n",
       "      <td>0.627</td>\n",
       "      <td>50</td>\n",
       "      <td>1</td>\n",
       "    </tr>\n",
       "    <tr>\n",
       "      <th>1</th>\n",
       "      <td>1</td>\n",
       "      <td>85</td>\n",
       "      <td>66</td>\n",
       "      <td>29</td>\n",
       "      <td>0</td>\n",
       "      <td>26.6</td>\n",
       "      <td>0.351</td>\n",
       "      <td>31</td>\n",
       "      <td>0</td>\n",
       "    </tr>\n",
       "    <tr>\n",
       "      <th>2</th>\n",
       "      <td>8</td>\n",
       "      <td>183</td>\n",
       "      <td>64</td>\n",
       "      <td>0</td>\n",
       "      <td>0</td>\n",
       "      <td>23.3</td>\n",
       "      <td>0.672</td>\n",
       "      <td>32</td>\n",
       "      <td>1</td>\n",
       "    </tr>\n",
       "    <tr>\n",
       "      <th>3</th>\n",
       "      <td>1</td>\n",
       "      <td>89</td>\n",
       "      <td>66</td>\n",
       "      <td>23</td>\n",
       "      <td>94</td>\n",
       "      <td>28.1</td>\n",
       "      <td>0.167</td>\n",
       "      <td>21</td>\n",
       "      <td>0</td>\n",
       "    </tr>\n",
       "    <tr>\n",
       "      <th>4</th>\n",
       "      <td>0</td>\n",
       "      <td>137</td>\n",
       "      <td>40</td>\n",
       "      <td>35</td>\n",
       "      <td>168</td>\n",
       "      <td>43.1</td>\n",
       "      <td>2.288</td>\n",
       "      <td>33</td>\n",
       "      <td>1</td>\n",
       "    </tr>\n",
       "    <tr>\n",
       "      <th>...</th>\n",
       "      <td>...</td>\n",
       "      <td>...</td>\n",
       "      <td>...</td>\n",
       "      <td>...</td>\n",
       "      <td>...</td>\n",
       "      <td>...</td>\n",
       "      <td>...</td>\n",
       "      <td>...</td>\n",
       "      <td>...</td>\n",
       "    </tr>\n",
       "    <tr>\n",
       "      <th>763</th>\n",
       "      <td>10</td>\n",
       "      <td>101</td>\n",
       "      <td>76</td>\n",
       "      <td>48</td>\n",
       "      <td>180</td>\n",
       "      <td>32.9</td>\n",
       "      <td>0.171</td>\n",
       "      <td>63</td>\n",
       "      <td>0</td>\n",
       "    </tr>\n",
       "    <tr>\n",
       "      <th>764</th>\n",
       "      <td>2</td>\n",
       "      <td>122</td>\n",
       "      <td>70</td>\n",
       "      <td>27</td>\n",
       "      <td>0</td>\n",
       "      <td>36.8</td>\n",
       "      <td>0.340</td>\n",
       "      <td>27</td>\n",
       "      <td>0</td>\n",
       "    </tr>\n",
       "    <tr>\n",
       "      <th>765</th>\n",
       "      <td>5</td>\n",
       "      <td>121</td>\n",
       "      <td>72</td>\n",
       "      <td>23</td>\n",
       "      <td>112</td>\n",
       "      <td>26.2</td>\n",
       "      <td>0.245</td>\n",
       "      <td>30</td>\n",
       "      <td>0</td>\n",
       "    </tr>\n",
       "    <tr>\n",
       "      <th>766</th>\n",
       "      <td>1</td>\n",
       "      <td>126</td>\n",
       "      <td>60</td>\n",
       "      <td>0</td>\n",
       "      <td>0</td>\n",
       "      <td>30.1</td>\n",
       "      <td>0.349</td>\n",
       "      <td>47</td>\n",
       "      <td>1</td>\n",
       "    </tr>\n",
       "    <tr>\n",
       "      <th>767</th>\n",
       "      <td>1</td>\n",
       "      <td>93</td>\n",
       "      <td>70</td>\n",
       "      <td>31</td>\n",
       "      <td>0</td>\n",
       "      <td>30.4</td>\n",
       "      <td>0.315</td>\n",
       "      <td>23</td>\n",
       "      <td>0</td>\n",
       "    </tr>\n",
       "  </tbody>\n",
       "</table>\n",
       "<p>768 rows × 9 columns</p>\n",
       "</div>"
      ],
      "text/plain": [
       "     Pregnancies  Glucose  BloodPressure  SkinThickness  Insulin   BMI  \\\n",
       "0              6      148             72             35        0  33.6   \n",
       "1              1       85             66             29        0  26.6   \n",
       "2              8      183             64              0        0  23.3   \n",
       "3              1       89             66             23       94  28.1   \n",
       "4              0      137             40             35      168  43.1   \n",
       "..           ...      ...            ...            ...      ...   ...   \n",
       "763           10      101             76             48      180  32.9   \n",
       "764            2      122             70             27        0  36.8   \n",
       "765            5      121             72             23      112  26.2   \n",
       "766            1      126             60              0        0  30.1   \n",
       "767            1       93             70             31        0  30.4   \n",
       "\n",
       "     DiabetesPedigreeFunction  Age  Outcome  \n",
       "0                       0.627   50        1  \n",
       "1                       0.351   31        0  \n",
       "2                       0.672   32        1  \n",
       "3                       0.167   21        0  \n",
       "4                       2.288   33        1  \n",
       "..                        ...  ...      ...  \n",
       "763                     0.171   63        0  \n",
       "764                     0.340   27        0  \n",
       "765                     0.245   30        0  \n",
       "766                     0.349   47        1  \n",
       "767                     0.315   23        0  \n",
       "\n",
       "[768 rows x 9 columns]"
      ]
     },
     "execution_count": 466,
     "metadata": {},
     "output_type": "execute_result"
    }
   ],
   "source": [
    "pima"
   ]
  },
  {
   "cell_type": "code",
   "execution_count": 467,
   "metadata": {},
   "outputs": [],
   "source": [
    "#Taking required features for training into a list\n",
    "features=[\"Glucose\",\"BloodPressure\",\"SkinThickness\",\"Outcome\"]\n",
    "#Creating a DataFrame with the list features\n",
    "X_temp=pima[features]\n",
    "#Spliting the Datasets into 2 parts i.e Training Set and Test Set\n",
    "X_train,X_test = train_test_split(X_temp, test_size=0.5)\n",
    "#defining two DataFrames for two Classes A(\"Outcome\"==0) and B(\"Outcome\"==1)\n",
    "X_trainA=X_train[X_train[\"Outcome\"]==0]\n",
    "X_trainB=X_train[X_train[\"Outcome\"]==1]"
   ]
  },
  {
   "cell_type": "code",
   "execution_count": 468,
   "metadata": {},
   "outputs": [],
   "source": [
    "#calculating the prior probability of the classes\n",
    "prior_prob_A=X_trainA.shape[0]/(X_trainA.shape[0]+X_trainB.shape[0])\n",
    "prior_prob_B=X_trainB.shape[0]/(X_trainA.shape[0]+X_trainB.shape[0])"
   ]
  },
  {
   "cell_type": "code",
   "execution_count": 469,
   "metadata": {},
   "outputs": [],
   "source": [
    "y_trainA=X_trainA[[\"Outcome\"]]\n",
    "y_trainB=X_trainB[[\"Outcome\"]]\n",
    "\n",
    "#Removing Outcome Column Feature from Both DataFrames\n",
    "X_trainA=X_trainA[[\"Glucose\",\"BloodPressure\",\"SkinThickness\"]]\n",
    "X_trainB=X_trainB[[\"Glucose\",\"BloodPressure\",\"SkinThickness\"]]"
   ]
  },
  {
   "cell_type": "code",
   "execution_count": 470,
   "metadata": {},
   "outputs": [],
   "source": [
    "#function for calculating the mean\n",
    "def mean(x):\n",
    "    return sum(x)/x.shape[0]"
   ]
  },
  {
   "cell_type": "code",
   "execution_count": 471,
   "metadata": {},
   "outputs": [],
   "source": [
    "#mean of the features of classA\n",
    "meanVarA1=mean(X_trainA.iloc[:,0])\n",
    "meanVarA2=mean(X_trainA.iloc[:,1])\n",
    "meanVarA3=mean(X_trainA.iloc[:,2])"
   ]
  },
  {
   "cell_type": "code",
   "execution_count": 472,
   "metadata": {},
   "outputs": [],
   "source": [
    "#mean of the features of classB\n",
    "meanVarB1=mean(X_trainB.iloc[:,0])\n",
    "meanVarB2=mean(X_trainB.iloc[:,1])\n",
    "meanVarB3=mean(X_trainB.iloc[:,2])"
   ]
  },
  {
   "cell_type": "code",
   "execution_count": 473,
   "metadata": {},
   "outputs": [],
   "source": [
    "#function which takes \"mean\" and \"covariance\" as the parameters and returns the likelihood of the Feature Vector\n",
    "def likelihood(x,mu,co):\n",
    "    #inverse of the covariance matrix\n",
    "    inv=np.linalg.inv(co)\n",
    "    p1=1/(np.sqrt(((2*np.pi)**3)*np.linalg.det(co)))\n",
    "    p2=np.exp(-0.5*np.dot(np.dot((x-mu).T,inv),(x-mu)))\n",
    "    p=p1*p2\n",
    "    return p"
   ]
  },
  {
   "cell_type": "code",
   "execution_count": 474,
   "metadata": {},
   "outputs": [],
   "source": [
    "#defining the meanVector which stacked all the means of the taken Features\n",
    "MeanVectorA=np.array([[meanVarA1,meanVarA2,meanVarA3]])\n",
    "MeanVectorB=np.array([[meanVarB1,meanVarB2,meanVarB3]])\n"
   ]
  },
  {
   "cell_type": "code",
   "execution_count": 475,
   "metadata": {},
   "outputs": [],
   "source": [
    "#calculating the covariance matrix for both classes(A and B)\n",
    "covA=np.cov(X_trainA.T)\n",
    "covB=np.cov(X_trainB.T)"
   ]
  },
  {
   "cell_type": "code",
   "execution_count": 494,
   "metadata": {},
   "outputs": [
    {
     "name": "stdout",
     "output_type": "stream",
     "text": [
      "Class A\n"
     ]
    }
   ],
   "source": [
    "##Testing one test sample on the classsifier\n",
    "a=X_test.iloc[381,0:3].to_numpy().reshape(X_test.shape[1]-1,1)\n",
    "postA=likelihood(a,MeanVectorA.T,covA)*prior_prob_A\n",
    "postB=likelihood(a,MeanVectorB.T,covB)*prior_prob_B\n",
    "if(postA<postB):\n",
    "    print(\"Class B\")\n",
    "else:\n",
    "    print(\"Class A\")"
   ]
  },
  {
   "cell_type": "code",
   "execution_count": 477,
   "metadata": {},
   "outputs": [
    {
     "name": "stdout",
     "output_type": "stream",
     "text": [
      "Total no of correctly predicted values:299\n",
      "Accuracy: 0.78125\n",
      "Total no of wrongly predicted values:85\n",
      "Mean: 0.22135416666666666\n"
     ]
    }
   ],
   "source": [
    "#Accuracy of the Total Test Set\n",
    "predicted_outcome=[]\n",
    "for k in range(X_test.shape[0]):\n",
    "    #Changing the test sample from Pandas Series to numpy Array and reshaping it\n",
    "    a=X_test.iloc[k,0:3].to_numpy().reshape(X_test.shape[1]-1,1)\n",
    "    #Calculating the posterior probabilities\n",
    "    postA=likelihood(a,MeanVectorA.T,covA)*prior_prob_A\n",
    "    postB=likelihood(a,MeanVectorB.T,covB)*prior_prob_B\n",
    "    #Whichever Posterior Probability is more, the test sample is labelled with the class label\n",
    "    if(postA<postB):\n",
    "        predicted_outcome.append(1)\n",
    "    else:\n",
    "        predicted_outcome.append(0)\n",
    "XTest=X_test.copy()\n",
    "XTest[\"predictedOutcome\"]=predicted_outcome\n",
    "correct=0\n",
    "wrong=0\n",
    "#Checking how many did the classifier correctly labelled\n",
    "for k in range(XTest.shape[0]):\n",
    "    if(XTest.iloc[k,3]==XTest.iloc[k,4]):\n",
    "        correct+=1\n",
    "    else:\n",
    "        wrong+=1\n",
    "\n",
    "print(\"Total no of correctly predicted values:\" +str(correct))\n",
    "Accuracy=correct/X_test.shape[0]\n",
    "print(\"Accuracy: \"+str(ratio))\n"
   ]
  },
  {
   "cell_type": "code",
   "execution_count": 478,
   "metadata": {},
   "outputs": [],
   "source": [
    "#storing the accuracy of 10 iterations in a list\n",
    "ListAccuracy=[]"
   ]
  },
  {
   "cell_type": "code",
   "execution_count": 479,
   "metadata": {},
   "outputs": [],
   "source": [
    "ListAccuracy.append(Accuracy)"
   ]
  },
  {
   "cell_type": "code",
   "execution_count": 480,
   "metadata": {},
   "outputs": [
    {
     "data": {
      "text/plain": [
       "[0.7473958333333334,\n",
       " 0.7369791666666666,\n",
       " 0.7161458333333334,\n",
       " 0.7708333333333334,\n",
       " 0.7369791666666666,\n",
       " 0.7473958333333334,\n",
       " 0.75,\n",
       " 0.7083333333333334,\n",
       " 0.7395833333333334,\n",
       " 0.734375,\n",
       " 0.7786458333333334]"
      ]
     },
     "execution_count": 480,
     "metadata": {},
     "output_type": "execute_result"
    }
   ],
   "source": [
    "ListAccuracy"
   ]
  },
  {
   "cell_type": "code",
   "execution_count": 481,
   "metadata": {},
   "outputs": [
    {
     "name": "stdout",
     "output_type": "stream",
     "text": [
      "0.7424242424242423\n"
     ]
    }
   ],
   "source": [
    "#mean accuracy\n",
    "Mean=sum(ListAccuracy)/len(ListAccuracy)\n",
    "print(Mean)"
   ]
  },
  {
   "cell_type": "code",
   "execution_count": 482,
   "metadata": {},
   "outputs": [],
   "source": [
    "import math\n",
    "std_dev=0\n",
    "for p in range(len(ListAccuracy)):\n",
    "    std_dev+=(ListAccuracy[p]-Mean)**2\n",
    "std_d=std_dev/(len(ListAccuracy)-1)\n",
    "std_deviation=math.sqrt(std_d)"
   ]
  },
  {
   "cell_type": "code",
   "execution_count": 483,
   "metadata": {},
   "outputs": [
    {
     "name": "stdout",
     "output_type": "stream",
     "text": [
      "0.020520256490892612\n"
     ]
    }
   ],
   "source": [
    "#Standard Deviation of the accuracy\n",
    "print(std_deviation)"
   ]
  }
 ],
 "metadata": {
  "kernelspec": {
   "display_name": "Python 3",
   "language": "python",
   "name": "python3"
  },
  "language_info": {
   "codemirror_mode": {
    "name": "ipython",
    "version": 3
   },
   "file_extension": ".py",
   "mimetype": "text/x-python",
   "name": "python",
   "nbconvert_exporter": "python",
   "pygments_lexer": "ipython3",
   "version": "3.8.1"
  }
 },
 "nbformat": 4,
 "nbformat_minor": 4
}
